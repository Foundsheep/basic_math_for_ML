{
 "cells": [
  {
   "cell_type": "code",
   "execution_count": 1,
   "id": "b1620cdc",
   "metadata": {},
   "outputs": [],
   "source": [
    "import numpy as np\n",
    "import matplotlib.pyplot as plt\n",
    "\n",
    "D1 = np.array([[1.0, 1.2, 3, 4, 5, 6], [1.7, 3, 2.3, 5.3, 3.8, 5.5]])\n",
    "D2 = np.array([[-0.6, 1.0, 1.2, 3, 4, 5, 6], [2.9, 1.7, 3, 2.3, 5.3, 3.8, 5.5]])"
   ]
  },
  {
   "cell_type": "code",
   "execution_count": 12,
   "id": "d057ad94",
   "metadata": {},
   "outputs": [
    {
     "data": {
      "image/png": "[encoded data removed]",
      "text/plain": [
       "<Figure size 1080x432 with 2 Axes>"
      ]
     },
     "metadata": {
      "needs_background": "light"
     },
     "output_type": "display_data"
    }
   ],
   "source": [
    "fig, (ax1, ax2) = plt.subplots(1,2,sharex=True, sharey=False)\n",
    "fig.set_size_inches((15,6))\n",
    "\n",
    "ax1.plot(D1[0], D1[1], 'ko', markersize=10)\n",
    "ax1.set_xlim([-1,7])\n",
    "ax1.set_ylim([1,6])\n",
    "ax1.set_title('D1', fontsize=18)\n",
    "\n",
    "ax2.plot(D2[0], D2[1], 'ko', markersize=10)\n",
    "ax2.set_xlim([-1,7])\n",
    "ax2.set_ylim([1,6])\n",
    "ax2.set_title('D2', fontsize=18)\n",
    "\n",
    "plt.show()"
   ]
  },
  {
   "cell_type": "code",
   "execution_count": 13,
   "id": "542afa5f",
   "metadata": {},
   "outputs": [
    {
     "data": {
      "text/plain": [
       "2"
      ]
     },
     "execution_count": 13,
     "metadata": {},
     "output_type": "execute_result"
    }
   ],
   "source": [
    "D1.shape[0]"
   ]
  },
  {
   "cell_type": "code",
   "execution_count": 14,
   "id": "963c07a2",
   "metadata": {},
   "outputs": [],
   "source": [
    "def machine_learning(D):\n",
    "    N = D.shape[1]\n",
    "    X = np.c_[np.ones(N), D[0]]\n",
    "    y = D[1]\n",
    "    \n",
    "    w = np.linalg.solve(np.dot(X.T, X), np.dot(X.T, y))\n",
    "    return w"
   ]
  },
  {
   "cell_type": "code",
   "execution_count": 15,
   "id": "3944e5d5",
   "metadata": {},
   "outputs": [
    {
     "data": {
      "text/plain": [
       "array([[1, 2, 3, 0, 0, 4, 5, 6]])"
      ]
     },
     "execution_count": 15,
     "metadata": {},
     "output_type": "execute_result"
    }
   ],
   "source": [
    "np.c_[np.array([[1,2,3]]), 0, 0, np.array([[4,5,6]])]"
   ]
  },
  {
   "cell_type": "code",
   "execution_count": 20,
   "id": "2f9c954e",
   "metadata": {},
   "outputs": [
    {
     "data": {
      "text/plain": [
       "array([1., 1., 1.])"
      ]
     },
     "execution_count": 20,
     "metadata": {},
     "output_type": "execute_result"
    }
   ],
   "source": [
    "np.ones(3)"
   ]
  },
  {
   "cell_type": "code",
   "execution_count": 21,
   "id": "9b380131",
   "metadata": {},
   "outputs": [
    {
     "data": {
      "text/plain": [
       "array([[1. , 1.2, 3. , 4. , 5. , 6. ],\n",
       "       [1.7, 3. , 2.3, 5.3, 3.8, 5.5]])"
      ]
     },
     "execution_count": 21,
     "metadata": {},
     "output_type": "execute_result"
    }
   ],
   "source": [
    "D1"
   ]
  },
  {
   "cell_type": "code",
   "execution_count": 22,
   "id": "d8ee0f04",
   "metadata": {},
   "outputs": [
    {
     "data": {
      "text/plain": [
       "array([[1. , 1.7],\n",
       "       [1.2, 3. ],\n",
       "       [3. , 2.3],\n",
       "       [4. , 5.3],\n",
       "       [5. , 3.8],\n",
       "       [6. , 5.5]])"
      ]
     },
     "execution_count": 22,
     "metadata": {},
     "output_type": "execute_result"
    }
   ],
   "source": [
    "D1.T"
   ]
  },
  {
   "cell_type": "code",
   "execution_count": 25,
   "id": "068d09f2",
   "metadata": {},
   "outputs": [
    {
     "data": {
      "text/plain": [
       "array([[ 3.89,  6.3 ,  6.91, 13.01, 11.46, 15.35],\n",
       "       [ 6.3 , 10.44, 10.5 , 20.7 , 17.4 , 23.7 ],\n",
       "       [ 6.91, 10.5 , 14.29, 24.19, 23.74, 30.65],\n",
       "       [13.01, 20.7 , 24.19, 44.09, 40.14, 53.15],\n",
       "       [11.46, 17.4 , 23.74, 40.14, 39.44, 50.9 ],\n",
       "       [15.35, 23.7 , 30.65, 53.15, 50.9 , 66.25]])"
      ]
     },
     "execution_count": 25,
     "metadata": {},
     "output_type": "execute_result"
    }
   ],
   "source": [
    "np.dot(D1.T, D1)"
   ]
  },
  {
   "cell_type": "code",
   "execution_count": 26,
   "id": "a5f8f7c4",
   "metadata": {},
   "outputs": [
    {
     "data": {
      "text/plain": [
       "array([[ 3.89,  6.3 ,  6.91, 13.01, 11.46, 15.35],\n",
       "       [ 6.3 , 10.44, 10.5 , 20.7 , 17.4 , 23.7 ],\n",
       "       [ 6.91, 10.5 , 14.29, 24.19, 23.74, 30.65],\n",
       "       [13.01, 20.7 , 24.19, 44.09, 40.14, 53.15],\n",
       "       [11.46, 17.4 , 23.74, 40.14, 39.44, 50.9 ],\n",
       "       [15.35, 23.7 , 30.65, 53.15, 50.9 , 66.25]])"
      ]
     },
     "execution_count": 26,
     "metadata": {},
     "output_type": "execute_result"
    }
   ],
   "source": [
    "np.matmul(D1.T, D1)"
   ]
  },
  {
   "cell_type": "code",
   "execution_count": 37,
   "id": "0268aa60",
   "metadata": {},
   "outputs": [],
   "source": [
    "def more_clever(D):\n",
    "    first, last = D[:,0], D[:,-1]\n",
    "    w1 = (last[1]-first[1]) / (last[0]-first[0])\n",
    "    w0 = -w1 * first[0] + first[1]\n",
    "    return(w0, w1)"
   ]
  },
  {
   "cell_type": "code",
   "execution_count": 38,
   "id": "1ba81ab7",
   "metadata": {},
   "outputs": [
    {
     "data": {
      "text/plain": [
       "array([1.51079935, 0.62055465])"
      ]
     },
     "execution_count": 38,
     "metadata": {},
     "output_type": "execute_result"
    }
   ],
   "source": [
    "machine_learning(D1)"
   ]
  },
  {
   "cell_type": "code",
   "execution_count": 39,
   "id": "aa2f7a65",
   "metadata": {},
   "outputs": [
    {
     "data": {
      "text/plain": [
       "(0.94, 0.76)"
      ]
     },
     "execution_count": 39,
     "metadata": {},
     "output_type": "execute_result"
    }
   ],
   "source": [
    "more_clever(D1)"
   ]
  },
  {
   "cell_type": "code",
   "execution_count": 35,
   "id": "932e2ef4",
   "metadata": {},
   "outputs": [
    {
     "data": {
      "text/plain": [
       "array([1. , 1.7])"
      ]
     },
     "execution_count": 35,
     "metadata": {},
     "output_type": "execute_result"
    }
   ],
   "source": [
    "D1[:,0]"
   ]
  },
  {
   "cell_type": "code",
   "execution_count": 36,
   "id": "01fafe84",
   "metadata": {},
   "outputs": [
    {
     "data": {
      "text/plain": [
       "1.7"
      ]
     },
     "execution_count": 36,
     "metadata": {},
     "output_type": "execute_result"
    }
   ],
   "source": [
    "D1[:,0][1]"
   ]
  },
  {
   "cell_type": "code",
   "execution_count": 40,
   "id": "772e8d03",
   "metadata": {},
   "outputs": [],
   "source": [
    "def f(x,w):\n",
    "    return w[1] * x + w[0]"
   ]
  },
  {
   "cell_type": "code",
   "execution_count": 41,
   "id": "0799119b",
   "metadata": {},
   "outputs": [
    {
     "data": {
      "image/png": "[encoded data removed]",
      "text/plain": [
       "<Figure size 1080x432 with 2 Axes>"
      ]
     },
     "metadata": {
      "needs_background": "light"
     },
     "output_type": "display_data"
    }
   ],
   "source": [
    "w_ml_d1 = machine_learning(D1)\n",
    "w_mc_d1 = more_clever(D1)\n",
    "\n",
    "w_ml_d2 = machine_learning(D2)\n",
    "w_mc_d2 = more_clever(D2)\n",
    "\n",
    "x = np.linspace(-1,7, 100)\n",
    "\n",
    "fig, (ax1, ax2) = plt.subplots(1,2, sharex=True, sharey=True)\n",
    "fig.set_size_inches((15,6))\n",
    "\n",
    "ax1.plot(D1[0], D1[1], 'ko', markersize=10)\n",
    "ax1.plot(x, f(x, w_ml_d1), c='k', lw=2, label='machine learning')\n",
    "ax1.plot(x, f(x, w_mc_d1), '--', c='k', lw=2, label='more clever')\n",
    "ax1.set_xlim([-1,7])\n",
    "ax1.set_ylim([1,6])\n",
    "ax1.legend(fontsize=18)\n",
    "\n",
    "ax2.plot(D2[0], D2[1], 'ko', markersize=10)\n",
    "ax2.plot(x, f(x, w_ml_d2), c='k', lw=2, label='machine learning')\n",
    "ax2.plot(x, f(x, w_mc_d2), '--', c='k', lw=2, label='more clever')\n",
    "ax2.set_xlim([-1,7])\n",
    "ax2.set_ylim([1,6])\n",
    "ax2.legend(fontsize=18)\n",
    "\n",
    "plt.show()"
   ]
  },
  {
   "cell_type": "markdown",
   "id": "fd293eed",
   "metadata": {},
   "source": [
    "## 150번 반복해서 선을 그리며 점점 최적의 선을 찾아가는 과정"
   ]
  },
  {
   "cell_type": "code",
   "execution_count": 73,
   "id": "700f5c4f",
   "metadata": {},
   "outputs": [],
   "source": [
    "import numpy as np\n",
    "import matplotlib.pyplot as plt\n",
    "\n",
    "D1 = np.array([[1.0, 1.2, 3, 4, 5, 6],\n",
    "             [1.5, 3, 2.3, 5.3, 3.8, 5.5]])\n",
    "\n",
    "num_iters = 150\n",
    "eta = 0.02\n",
    "\n",
    "np.random.seed(2)\n",
    "w = np.random.randn(2)\n",
    "N = D1.shape[1]\n",
    "\n",
    "ws, L = [], []\n",
    "\n",
    "# 1열에는 숫자 1이 있고, 2열에는 데이터의 x좌표가 있는 행렬 X를 만듭니다.\n",
    "# X: (N,2), Y: (N,)\n",
    "X = np.c_[np.ones(N), D1[0]]\n",
    "y = D1[1]\n",
    "\n",
    "# 여기서 우리의 경험 E를 반복하면서  태스크 T를 개선합니다.\n",
    "for i in range(num_iters):\n",
    "    # grad L\n",
    "    c = (1/N) * np.dot(X.T, np.dot(X, w) - y)\n",
    "    # 안전장치 grad L을 이용해서 w를 수정합니다.\n",
    "    w -= eta * c\n",
    "    # w가 변화되는 과정을 저장합니다.\n",
    "    ws.append(w)\n",
    "    \n",
    "    # 손실을 계산합니다.\n",
    "    L.append( ((np.dot(X, w)-y)**2).sum()/(2*N) )"
   ]
  },
  {
   "cell_type": "code",
   "execution_count": 46,
   "id": "0b9c2167",
   "metadata": {},
   "outputs": [
    {
     "data": {
      "text/plain": [
       "array([[1. , 1. ],\n",
       "       [1. , 1.2],\n",
       "       [1. , 3. ],\n",
       "       [1. , 4. ],\n",
       "       [1. , 5. ],\n",
       "       [1. , 6. ]])"
      ]
     },
     "execution_count": 46,
     "metadata": {},
     "output_type": "execute_result"
    }
   ],
   "source": [
    "X"
   ]
  },
  {
   "cell_type": "code",
   "execution_count": 47,
   "id": "37ca21d6",
   "metadata": {},
   "outputs": [
    {
     "data": {
      "text/plain": [
       "array([0.58801406, 0.83186127])"
      ]
     },
     "execution_count": 47,
     "metadata": {},
     "output_type": "execute_result"
    }
   ],
   "source": [
    "w"
   ]
  },
  {
   "cell_type": "code",
   "execution_count": 48,
   "id": "f75825b7",
   "metadata": {},
   "outputs": [
    {
     "data": {
      "text/plain": [
       "array([[1. , 1. , 1. , 1. , 1. , 1. ],\n",
       "       [1. , 1.2, 3. , 4. , 5. , 6. ]])"
      ]
     },
     "execution_count": 48,
     "metadata": {},
     "output_type": "execute_result"
    }
   ],
   "source": [
    "X.T"
   ]
  },
  {
   "cell_type": "code",
   "execution_count": 49,
   "id": "369c1049",
   "metadata": {},
   "outputs": [
    {
     "data": {
      "text/plain": [
       "array([1.41987533, 1.58624759, 3.08359787, 3.91545914, 4.74732041,\n",
       "       5.57918168])"
      ]
     },
     "execution_count": 49,
     "metadata": {},
     "output_type": "execute_result"
    }
   ],
   "source": [
    "np.dot(X, w)"
   ]
  },
  {
   "cell_type": "code",
   "execution_count": 53,
   "id": "005477da",
   "metadata": {},
   "outputs": [],
   "source": [
    "test = np.array([1])"
   ]
  },
  {
   "cell_type": "code",
   "execution_count": 55,
   "id": "9993ee77",
   "metadata": {},
   "outputs": [
    {
     "data": {
      "text/plain": [
       "1.5862475853230076"
      ]
     },
     "execution_count": 55,
     "metadata": {},
     "output_type": "execute_result"
    }
   ],
   "source": [
    "X[1,0]*w[0]+X[1,1]*w[1]"
   ]
  },
  {
   "cell_type": "code",
   "execution_count": 56,
   "id": "570b1059",
   "metadata": {},
   "outputs": [
    {
     "data": {
      "text/plain": [
       "3.0835978703415035"
      ]
     },
     "execution_count": 56,
     "metadata": {},
     "output_type": "execute_result"
    }
   ],
   "source": [
    "X[2,0]*w[0]+X[2,1]*w[1]"
   ]
  },
  {
   "cell_type": "code",
   "execution_count": 57,
   "id": "5e8fa77d",
   "metadata": {},
   "outputs": [
    {
     "data": {
      "text/plain": [
       "array([[1. , 1. , 1. , 1. , 1. , 1. ],\n",
       "       [1. , 1.2, 3. , 4. , 5. , 6. ]])"
      ]
     },
     "execution_count": 57,
     "metadata": {},
     "output_type": "execute_result"
    }
   ],
   "source": [
    "X.T"
   ]
  },
  {
   "cell_type": "code",
   "execution_count": 58,
   "id": "7478525b",
   "metadata": {},
   "outputs": [
    {
     "data": {
      "text/plain": [
       "(2, 6)"
      ]
     },
     "execution_count": 58,
     "metadata": {},
     "output_type": "execute_result"
    }
   ],
   "source": [
    "X.T.shape"
   ]
  },
  {
   "cell_type": "code",
   "execution_count": 59,
   "id": "fef21734",
   "metadata": {},
   "outputs": [
    {
     "data": {
      "text/plain": [
       "(6,)"
      ]
     },
     "execution_count": 59,
     "metadata": {},
     "output_type": "execute_result"
    }
   ],
   "source": [
    "(np.dot(X, w) - y).shape"
   ]
  },
  {
   "cell_type": "code",
   "execution_count": 72,
   "id": "6a7d5905",
   "metadata": {},
   "outputs": [
    {
     "data": {
      "image/png": "[encoded data removed]",
      "text/plain": [
       "<Figure size 1080x432 with 2 Axes>"
      ]
     },
     "metadata": {
      "needs_background": "light"
     },
     "output_type": "display_data"
    }
   ],
   "source": [
    "x = np.linspace(-1, 7, 100)\n",
    "\n",
    "fig, (ax1, ax2) = plt.subplots(1,2)\n",
    "fig.set_size_inches((15,6))\n",
    "\n",
    "ax1.plot(D1[0], D1[1], 'ko', markersize=8)\n",
    "ax1.plot(x, f(x, w), c='k', lw=2, label='machine learning')\n",
    "ax1.set_xlim([-1,7])\n",
    "ax1.set_ylim([1,6])\n",
    "ax1.legend(fontsize=18)\n",
    "\n",
    "ax2.plot(L[:50], '--', c='k', label='loss')\n",
    "ax2.legend(fontsize=18)\n",
    "plt.show()"
   ]
  },
  {
   "cell_type": "code",
   "execution_count": 74,
   "id": "cf4b31ba",
   "metadata": {},
   "outputs": [
    {
     "data": {
      "image/png": "[encoded data removed]",
      "text/plain": [
       "<Figure size 1080x432 with 2 Axes>"
      ]
     },
     "metadata": {
      "needs_background": "light"
     },
     "output_type": "display_data"
    }
   ],
   "source": [
    "# num_iters = 250으로 했을 때\n",
    "\n",
    "x = np.linspace(-1, 7, 100)\n",
    "\n",
    "fig, (ax1, ax2) = plt.subplots(1,2)\n",
    "fig.set_size_inches((15,6))\n",
    "\n",
    "ax1.plot(D1[0], D1[1], 'ko', markersize=8)\n",
    "ax1.plot(x, f(x, w), c='k', lw=2, label='machine learning')\n",
    "ax1.set_xlim([-1,7])\n",
    "ax1.set_ylim([1,6])\n",
    "ax1.legend(fontsize=18)\n",
    "\n",
    "ax2.plot(L[:50], '--', c='k', label='loss')\n",
    "ax2.legend(fontsize=18)\n",
    "plt.show()"
   ]
  },
  {
   "cell_type": "code",
   "execution_count": null,
   "id": "e577b5fe",
   "metadata": {},
   "outputs": [],
   "source": []
  },
  {
   "cell_type": "code",
   "execution_count": null,
   "id": "955eb898",
   "metadata": {},
   "outputs": [],
   "source": []
  }
 ],
 "metadata": {
  "kernelspec": {
   "display_name": "Python 3 (ipykernel)",
   "language": "python",
   "name": "python3"
  },
  "language_info": {
   "codemirror_mode": {
    "name": "ipython",
    "version": 3
   },
   "file_extension": ".py",
   "mimetype": "text/x-python",
   "name": "python",
   "nbconvert_exporter": "python",
   "pygments_lexer": "ipython3",
   "version": "3.7.4"
  }
 },
 "nbformat": 4,
 "nbformat_minor": 5
}
